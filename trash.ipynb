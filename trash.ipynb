{
 "cells": [
  {
   "cell_type": "code",
   "execution_count": null,
   "metadata": {},
   "outputs": [],
   "source": [
    "# the junior way\n",
    "\n",
    "# compute the sales growth rate\n",
    "data['sales_growth_rate'] = data.sort_values('year').groupby('id')['sales'].pct_change(fill_method=None)\n",
    "\n",
    "# compute the 90th quantile (of the sales growth rate) for each year and put the values in a new dataframe\n",
    "top_ten_percent_growth = pd.DataFrame(data.groupby('year')['sales_growth_rate'].quantile(0.9))\n",
    "top_ten_percent_growth['year'] = top_ten_percent_growth.index\n",
    "top_ten_percent_growth.reset_index(drop = True, inplace = True)\n",
    "\n",
    "# compare each sales growth rate to the 90th quantile of its year\n",
    "for i in data.index:\n",
    "    if data.loc[i, 'sales_growth_rate']  >= top_ten_percent_growth[top_ten_percent_growth['year']== data.loc[i, 'year']].iloc[0]['sales_growth_rate']:\n",
    "        data.loc[i, 'top_10_percent_growth'] = 1\n",
    "    else:\n",
    "        data.loc[i, 'top_10_percent_growth'] = 0"
   ]
  },
  {
   "cell_type": "code",
   "execution_count": null,
   "metadata": {},
   "outputs": [],
   "source": [
    "for column in data.columns:\n",
    "    print(column)\n",
    "    print(data[column].unique())"
   ]
  },
  {
   "cell_type": "code",
   "execution_count": null,
   "metadata": {},
   "outputs": [],
   "source": [
    "continuous_variables = ['sales', 'va', 'gom','rdint']\n",
    "\n",
    "for i in range(1, 3):\n",
    "    print(data.loc[data['id'] == i, continuous_variables])\n",
    "    data.loc[data['id'] == i, continuous_variables].interpolate(method='linear', axis=0, inplace=True)\n",
    "    print(data.loc[data['id'] == i, continuous_variables])\n",
    "    if data.loc[data['id'] == i, ['industry']].mode(axis=0, dropna=True).empty:\n",
    "        data.drop(data[data['id'] == i].index, inplace=True)\n",
    "    else:\n",
    "        print(data.loc[data['id'] == i, ['industry']].mode(axis=0, dropna=True).iloc[0, 0])\n",
    "        data.loc[data['id'] == i, ['industry']] = data.loc[data['id'] == i, ['industry']].mode(axis=0, dropna=True).iloc[0, 0]\n",
    "    print('next')"
   ]
  }
 ],
 "metadata": {
  "language_info": {
   "name": "python"
  }
 },
 "nbformat": 4,
 "nbformat_minor": 2
}
