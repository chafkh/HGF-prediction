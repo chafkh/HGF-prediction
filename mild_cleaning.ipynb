{
 "cells": [
  {
   "cell_type": "code",
   "execution_count": 3,
   "metadata": {},
   "outputs": [],
   "source": [
    "import pandas as pd\n",
    "import os\n",
    "from tqdm import tqdm\n",
    "\n",
    "# Reduce decimal points to 2\n",
    "pd.options.display.float_format = '{:,.2f}'.format\n",
    "\n",
    "# initialise progress_apply\n",
    "tqdm.pandas(desc=\"my bar!\")"
   ]
  },
  {
   "cell_type": "code",
   "execution_count": 4,
   "metadata": {},
   "outputs": [],
   "source": [
    "# Import date and drop useless column\n",
    "path = os.getcwd()\n",
    "\n",
    "data = pd.read_csv('{}/data_assignment_1.csv'.format(path))\n",
    "\n",
    "data.drop('Unnamed: 0', axis=1, inplace=True)"
   ]
  },
  {
   "cell_type": "code",
   "execution_count": 5,
   "metadata": {},
   "outputs": [
    {
     "name": "stdout",
     "output_type": "stream",
     "text": [
      "id              0\n",
      "year            0\n",
      "yearest     67916\n",
      "industry    79437\n",
      "pertot      79437\n",
      "enggrad     73439\n",
      "sales       79541\n",
      "va          79835\n",
      "gom         79843\n",
      "rdint       79720\n",
      "reext       79544\n",
      "ipnc        81662\n",
      "ipnf        81665\n",
      "ipnm        81660\n",
      "ipr         79454\n",
      "patent      79504\n",
      "dtype: int64\n"
     ]
    }
   ],
   "source": [
    "# take a first look at the number of NAs\n",
    "print(data.isna().sum())\n",
    "initial_length = len(data)"
   ]
  },
  {
   "cell_type": "code",
   "execution_count": 6,
   "metadata": {},
   "outputs": [
    {
     "name": "stderr",
     "output_type": "stream",
     "text": [
      "100%|██████████| 5304/5304 [02:35<00:00, 34.03it/s]\n"
     ]
    }
   ],
   "source": [
    "# loop to fill the NAs for each company\n",
    "for i in tqdm(data['id'].unique()):\n",
    "\n",
    "    if data.loc[data['id'] == i, ['industry']].mode(axis=0, dropna=True).empty:\n",
    "        # the rows are deleted if the column is full of NAs\n",
    "        data.drop(data[data['id'] == i].index, inplace=True)\n",
    "\n",
    "    elif data.loc[data['id'] == i, ['yearest']].mode(axis=0, dropna=True).empty: \n",
    "        # the rows are deleted if the column is full of NAs\n",
    "        data.drop(data[data['id'] == i].index, inplace=True)\n",
    "        \n",
    "    else:\n",
    "        # fill NAs with the variable mode for industry and yearest (makes more sense to our minds)\n",
    "        data.loc[data['id'] == i, ['industry']] = data.loc[data['id'] == i, ['industry']].mode(axis=0, dropna=True).iloc[0, 0]\n",
    "        data.loc[data['id'] == i, ['yearest']] = data.loc[data['id'] == i, ['yearest']].mode(axis=0, dropna=True).iloc[0, 0]\n",
    "\n",
    "        # interpolate the columns where variables are continuous\n",
    "        continuous_variables = ['enggrad', 'sales', 'va', 'gom','rdint', 'reext']\n",
    "        data.loc[data['id'] == i, continuous_variables] = data.loc[data['id'] == i, continuous_variables].interpolate(method='linear', axis=0, limit_direction='both')\n",
    "\n",
    "        # interpolate the columns where variables are discrete\n",
    "        discrete_variables = ['pertot', 'patent']\n",
    "        data.loc[data['id'] == i, discrete_variables] = data.loc[data['id'] == i, discrete_variables].interpolate(method='linear', axis=0, limit_direction='both').round(0)\n",
    "\n",
    "        # fill NAs in binary variables\n",
    "        binary_variables = ['ipnc', 'ipnf', 'ipnm', 'ipr']\n",
    "        data.loc[data['id'] == i, binary_variables] = data.loc[data['id'] == i, binary_variables].interpolate(method='linear', axis=0, limit_direction='both')"
   ]
  },
  {
   "cell_type": "code",
   "execution_count": 7,
   "metadata": {},
   "outputs": [
    {
     "name": "stdout",
     "output_type": "stream",
     "text": [
      "number of observations: 106030 \n",
      "\n",
      "15962 rows have been deleted during the process \n",
      "\n",
      "number of NAs for each column: \n",
      " id             0\n",
      "year           0\n",
      "yearest        0\n",
      "industry       0\n",
      "pertot         0\n",
      "enggrad      322\n",
      "sales        276\n",
      "va           483\n",
      "gom          483\n",
      "rdint         92\n",
      "reext        115\n",
      "ipnc        5681\n",
      "ipnf        5681\n",
      "ipnm        5681\n",
      "ipr           23\n",
      "patent        23\n",
      "dtype: int64\n"
     ]
    }
   ],
   "source": [
    "len_after_cleaning = len(data)\n",
    "print('number of observations:', len_after_cleaning, '\\n')\n",
    "print(initial_length - len_after_cleaning, 'rows have been deleted during the process', '\\n')\n",
    "print('number of NAs for each column:', '\\n', data.isna().sum())"
   ]
  },
  {
   "cell_type": "code",
   "execution_count": 8,
   "metadata": {},
   "outputs": [],
   "source": [
    "# Create age variable\n",
    "data.insert(loc=3, column='age', value=data.apply(lambda row: row['year'] - row['yearest'], axis=1), allow_duplicates=True)"
   ]
  },
  {
   "cell_type": "code",
   "execution_count": 9,
   "metadata": {},
   "outputs": [
    {
     "name": "stderr",
     "output_type": "stream",
     "text": [
      "C:\\Users\\EMCCd\\AppData\\Local\\Temp\\ipykernel_14976\\3459315293.py:2: FutureWarning: The 'fill_method' and 'limit' keywords in SeriesGroupBy.pct_change are deprecated and will be removed in a future version. Call ffill before calling pct_change instead.\n",
      "  data['sales_growth_rate'] = data.sort_values('year').groupby('id')['sales'].pct_change(fill_method=None)\n",
      "my bar!: 100%|██████████| 106030/106030 [00:01<00:00, 92692.60it/s]\n"
     ]
    }
   ],
   "source": [
    "# Compute the sales growth rate\n",
    "data['sales_growth_rate'] = data.sort_values('year').groupby('id')['sales'].pct_change(fill_method=None)\n",
    "\n",
    "# Compute the 90th percentile of the sales growth rate for each year\n",
    "percentile_90_thresholds = data.groupby('year')['sales_growth_rate'].quantile(0.9)\n",
    "\n",
    "# Create a binary target variable based on the 90th percentile\n",
    "data['is_hgf'] = data.progress_apply(lambda row: 1 if row['sales_growth_rate'] >= percentile_90_thresholds[row['year']] else 0, axis=1)"
   ]
  },
  {
   "cell_type": "code",
   "execution_count": 10,
   "metadata": {},
   "outputs": [
    {
     "name": "stdout",
     "output_type": "stream",
     "text": [
      "10506 more rows have been deleted\n"
     ]
    }
   ],
   "source": [
    "# drop the remaining NAs to perform model training and predictions\n",
    "data = data.dropna()\n",
    "print(len_after_cleaning - len(data), 'more rows have been deleted')"
   ]
  },
  {
   "cell_type": "code",
   "execution_count": 11,
   "metadata": {},
   "outputs": [],
   "source": [
    "# change data types\n",
    "\n",
    "data_types_dict = {'id': int,\n",
    "                   'year': int,\n",
    "                   'yearest': int,\n",
    "                   'age': int,\n",
    "                   'industry': int,\n",
    "                   'pertot': int,\n",
    "                   'enggrad': float,\n",
    "                   'sales': float,\n",
    "                   'va': float,\n",
    "                   'gom': float,\n",
    "                   'rdint': float,\n",
    "                   'reext': float,\n",
    "                   'ipnc': bool,\n",
    "                   'ipnf': bool,\n",
    "                   'ipnm': bool,\n",
    "                   'ipr': bool,\n",
    "                   'patent': int,\n",
    "                   'sales_growth_rate': float,\n",
    "                   'is_hgf': bool}\n",
    "\n",
    "data = data.astype(data_types_dict)"
   ]
  },
  {
   "cell_type": "code",
   "execution_count": 12,
   "metadata": {},
   "outputs": [
    {
     "data": {
      "text/plain": [
       "id                   0\n",
       "year                 0\n",
       "yearest              0\n",
       "age                  0\n",
       "industry             0\n",
       "pertot               0\n",
       "enggrad              0\n",
       "sales                0\n",
       "va                   0\n",
       "gom                  0\n",
       "rdint                0\n",
       "reext                0\n",
       "ipnc                 0\n",
       "ipnf                 0\n",
       "ipnm                 0\n",
       "ipr                  0\n",
       "patent               0\n",
       "sales_growth_rate    0\n",
       "is_hgf               0\n",
       "dtype: int64"
      ]
     },
     "execution_count": 12,
     "metadata": {},
     "output_type": "execute_result"
    }
   ],
   "source": [
    "# checking for missing values\n",
    "data.isnull().sum()"
   ]
  },
  {
   "cell_type": "code",
   "execution_count": 13,
   "metadata": {},
   "outputs": [
    {
     "data": {
      "text/html": [
       "<div>\n",
       "<style scoped>\n",
       "    .dataframe tbody tr th:only-of-type {\n",
       "        vertical-align: middle;\n",
       "    }\n",
       "\n",
       "    .dataframe tbody tr th {\n",
       "        vertical-align: top;\n",
       "    }\n",
       "\n",
       "    .dataframe thead th {\n",
       "        text-align: right;\n",
       "    }\n",
       "</style>\n",
       "<table border=\"1\" class=\"dataframe\">\n",
       "  <thead>\n",
       "    <tr style=\"text-align: right;\">\n",
       "      <th></th>\n",
       "      <th>id</th>\n",
       "      <th>year</th>\n",
       "      <th>yearest</th>\n",
       "      <th>age</th>\n",
       "      <th>industry</th>\n",
       "      <th>pertot</th>\n",
       "      <th>enggrad</th>\n",
       "      <th>sales</th>\n",
       "      <th>va</th>\n",
       "      <th>gom</th>\n",
       "      <th>rdint</th>\n",
       "      <th>reext</th>\n",
       "      <th>ipnc</th>\n",
       "      <th>ipnf</th>\n",
       "      <th>ipnm</th>\n",
       "      <th>ipr</th>\n",
       "      <th>patent</th>\n",
       "      <th>sales_growth_rate</th>\n",
       "      <th>is_hgf</th>\n",
       "    </tr>\n",
       "  </thead>\n",
       "  <tbody>\n",
       "    <tr>\n",
       "      <th>1</th>\n",
       "      <td>1</td>\n",
       "      <td>1991</td>\n",
       "      <td>1971</td>\n",
       "      <td>20</td>\n",
       "      <td>12</td>\n",
       "      <td>314</td>\n",
       "      <td>1.30</td>\n",
       "      <td>19,476,182.25</td>\n",
       "      <td>8,034,809.00</td>\n",
       "      <td>12.25</td>\n",
       "      <td>282,475.72</td>\n",
       "      <td>0.00</td>\n",
       "      <td>False</td>\n",
       "      <td>False</td>\n",
       "      <td>False</td>\n",
       "      <td>True</td>\n",
       "      <td>0</td>\n",
       "      <td>0.43</td>\n",
       "      <td>True</td>\n",
       "    </tr>\n",
       "    <tr>\n",
       "      <th>2</th>\n",
       "      <td>1</td>\n",
       "      <td>1992</td>\n",
       "      <td>1971</td>\n",
       "      <td>21</td>\n",
       "      <td>12</td>\n",
       "      <td>332</td>\n",
       "      <td>1.30</td>\n",
       "      <td>25,369,490.50</td>\n",
       "      <td>8,671,159.00</td>\n",
       "      <td>10.20</td>\n",
       "      <td>348,587.05</td>\n",
       "      <td>0.00</td>\n",
       "      <td>False</td>\n",
       "      <td>False</td>\n",
       "      <td>False</td>\n",
       "      <td>True</td>\n",
       "      <td>0</td>\n",
       "      <td>0.30</td>\n",
       "      <td>True</td>\n",
       "    </tr>\n",
       "    <tr>\n",
       "      <th>3</th>\n",
       "      <td>1</td>\n",
       "      <td>1993</td>\n",
       "      <td>1971</td>\n",
       "      <td>22</td>\n",
       "      <td>12</td>\n",
       "      <td>349</td>\n",
       "      <td>1.30</td>\n",
       "      <td>31,262,798.75</td>\n",
       "      <td>9,307,509.00</td>\n",
       "      <td>8.15</td>\n",
       "      <td>414,698.38</td>\n",
       "      <td>0.00</td>\n",
       "      <td>False</td>\n",
       "      <td>False</td>\n",
       "      <td>False</td>\n",
       "      <td>True</td>\n",
       "      <td>0</td>\n",
       "      <td>0.23</td>\n",
       "      <td>True</td>\n",
       "    </tr>\n",
       "    <tr>\n",
       "      <th>4</th>\n",
       "      <td>1</td>\n",
       "      <td>1994</td>\n",
       "      <td>1971</td>\n",
       "      <td>23</td>\n",
       "      <td>12</td>\n",
       "      <td>366</td>\n",
       "      <td>2.70</td>\n",
       "      <td>37,156,107.00</td>\n",
       "      <td>9,943,859.00</td>\n",
       "      <td>6.10</td>\n",
       "      <td>480,809.70</td>\n",
       "      <td>0.00</td>\n",
       "      <td>False</td>\n",
       "      <td>False</td>\n",
       "      <td>False</td>\n",
       "      <td>True</td>\n",
       "      <td>0</td>\n",
       "      <td>0.19</td>\n",
       "      <td>False</td>\n",
       "    </tr>\n",
       "    <tr>\n",
       "      <th>5</th>\n",
       "      <td>1</td>\n",
       "      <td>1995</td>\n",
       "      <td>1971</td>\n",
       "      <td>24</td>\n",
       "      <td>12</td>\n",
       "      <td>365</td>\n",
       "      <td>2.70</td>\n",
       "      <td>42,619,415.00</td>\n",
       "      <td>12,599,852.00</td>\n",
       "      <td>10.90</td>\n",
       "      <td>286,442.40</td>\n",
       "      <td>350,991.10</td>\n",
       "      <td>False</td>\n",
       "      <td>False</td>\n",
       "      <td>False</td>\n",
       "      <td>True</td>\n",
       "      <td>0</td>\n",
       "      <td>0.15</td>\n",
       "      <td>False</td>\n",
       "    </tr>\n",
       "    <tr>\n",
       "      <th>...</th>\n",
       "      <td>...</td>\n",
       "      <td>...</td>\n",
       "      <td>...</td>\n",
       "      <td>...</td>\n",
       "      <td>...</td>\n",
       "      <td>...</td>\n",
       "      <td>...</td>\n",
       "      <td>...</td>\n",
       "      <td>...</td>\n",
       "      <td>...</td>\n",
       "      <td>...</td>\n",
       "      <td>...</td>\n",
       "      <td>...</td>\n",
       "      <td>...</td>\n",
       "      <td>...</td>\n",
       "      <td>...</td>\n",
       "      <td>...</td>\n",
       "      <td>...</td>\n",
       "      <td>...</td>\n",
       "    </tr>\n",
       "    <tr>\n",
       "      <th>106462</th>\n",
       "      <td>4629</td>\n",
       "      <td>2008</td>\n",
       "      <td>1994</td>\n",
       "      <td>14</td>\n",
       "      <td>11</td>\n",
       "      <td>30</td>\n",
       "      <td>0.00</td>\n",
       "      <td>4,461,571.00</td>\n",
       "      <td>1,417,235.00</td>\n",
       "      <td>10.60</td>\n",
       "      <td>0.00</td>\n",
       "      <td>0.00</td>\n",
       "      <td>False</td>\n",
       "      <td>False</td>\n",
       "      <td>False</td>\n",
       "      <td>True</td>\n",
       "      <td>0</td>\n",
       "      <td>0.00</td>\n",
       "      <td>False</td>\n",
       "    </tr>\n",
       "    <tr>\n",
       "      <th>106463</th>\n",
       "      <td>4629</td>\n",
       "      <td>2009</td>\n",
       "      <td>1994</td>\n",
       "      <td>15</td>\n",
       "      <td>11</td>\n",
       "      <td>34</td>\n",
       "      <td>0.00</td>\n",
       "      <td>5,310,000.00</td>\n",
       "      <td>1,953,751.00</td>\n",
       "      <td>17.40</td>\n",
       "      <td>0.00</td>\n",
       "      <td>0.00</td>\n",
       "      <td>False</td>\n",
       "      <td>False</td>\n",
       "      <td>False</td>\n",
       "      <td>False</td>\n",
       "      <td>0</td>\n",
       "      <td>0.19</td>\n",
       "      <td>True</td>\n",
       "    </tr>\n",
       "    <tr>\n",
       "      <th>106464</th>\n",
       "      <td>4629</td>\n",
       "      <td>2010</td>\n",
       "      <td>1994</td>\n",
       "      <td>16</td>\n",
       "      <td>11</td>\n",
       "      <td>29</td>\n",
       "      <td>0.00</td>\n",
       "      <td>5,648,950.00</td>\n",
       "      <td>8,601,262.00</td>\n",
       "      <td>34.80</td>\n",
       "      <td>0.00</td>\n",
       "      <td>0.00</td>\n",
       "      <td>False</td>\n",
       "      <td>False</td>\n",
       "      <td>False</td>\n",
       "      <td>False</td>\n",
       "      <td>0</td>\n",
       "      <td>0.06</td>\n",
       "      <td>False</td>\n",
       "    </tr>\n",
       "    <tr>\n",
       "      <th>106465</th>\n",
       "      <td>4629</td>\n",
       "      <td>2011</td>\n",
       "      <td>1994</td>\n",
       "      <td>17</td>\n",
       "      <td>11</td>\n",
       "      <td>23</td>\n",
       "      <td>0.00</td>\n",
       "      <td>5,054,727.00</td>\n",
       "      <td>9,107,937.00</td>\n",
       "      <td>16.40</td>\n",
       "      <td>0.00</td>\n",
       "      <td>0.00</td>\n",
       "      <td>False</td>\n",
       "      <td>False</td>\n",
       "      <td>False</td>\n",
       "      <td>False</td>\n",
       "      <td>0</td>\n",
       "      <td>-0.11</td>\n",
       "      <td>False</td>\n",
       "    </tr>\n",
       "    <tr>\n",
       "      <th>106466</th>\n",
       "      <td>4629</td>\n",
       "      <td>2012</td>\n",
       "      <td>1994</td>\n",
       "      <td>18</td>\n",
       "      <td>11</td>\n",
       "      <td>22</td>\n",
       "      <td>0.00</td>\n",
       "      <td>4,577,597.00</td>\n",
       "      <td>8,225,564.00</td>\n",
       "      <td>11.20</td>\n",
       "      <td>0.00</td>\n",
       "      <td>0.00</td>\n",
       "      <td>False</td>\n",
       "      <td>False</td>\n",
       "      <td>False</td>\n",
       "      <td>False</td>\n",
       "      <td>0</td>\n",
       "      <td>-0.09</td>\n",
       "      <td>False</td>\n",
       "    </tr>\n",
       "  </tbody>\n",
       "</table>\n",
       "<p>95524 rows × 19 columns</p>\n",
       "</div>"
      ],
      "text/plain": [
       "          id  year  yearest  age  industry  pertot  enggrad         sales  \\\n",
       "1          1  1991     1971   20        12     314     1.30 19,476,182.25   \n",
       "2          1  1992     1971   21        12     332     1.30 25,369,490.50   \n",
       "3          1  1993     1971   22        12     349     1.30 31,262,798.75   \n",
       "4          1  1994     1971   23        12     366     2.70 37,156,107.00   \n",
       "5          1  1995     1971   24        12     365     2.70 42,619,415.00   \n",
       "...      ...   ...      ...  ...       ...     ...      ...           ...   \n",
       "106462  4629  2008     1994   14        11      30     0.00  4,461,571.00   \n",
       "106463  4629  2009     1994   15        11      34     0.00  5,310,000.00   \n",
       "106464  4629  2010     1994   16        11      29     0.00  5,648,950.00   \n",
       "106465  4629  2011     1994   17        11      23     0.00  5,054,727.00   \n",
       "106466  4629  2012     1994   18        11      22     0.00  4,577,597.00   \n",
       "\n",
       "                  va   gom      rdint      reext   ipnc   ipnf   ipnm    ipr  \\\n",
       "1       8,034,809.00 12.25 282,475.72       0.00  False  False  False   True   \n",
       "2       8,671,159.00 10.20 348,587.05       0.00  False  False  False   True   \n",
       "3       9,307,509.00  8.15 414,698.38       0.00  False  False  False   True   \n",
       "4       9,943,859.00  6.10 480,809.70       0.00  False  False  False   True   \n",
       "5      12,599,852.00 10.90 286,442.40 350,991.10  False  False  False   True   \n",
       "...              ...   ...        ...        ...    ...    ...    ...    ...   \n",
       "106462  1,417,235.00 10.60       0.00       0.00  False  False  False   True   \n",
       "106463  1,953,751.00 17.40       0.00       0.00  False  False  False  False   \n",
       "106464  8,601,262.00 34.80       0.00       0.00  False  False  False  False   \n",
       "106465  9,107,937.00 16.40       0.00       0.00  False  False  False  False   \n",
       "106466  8,225,564.00 11.20       0.00       0.00  False  False  False  False   \n",
       "\n",
       "        patent  sales_growth_rate  is_hgf  \n",
       "1            0               0.43    True  \n",
       "2            0               0.30    True  \n",
       "3            0               0.23    True  \n",
       "4            0               0.19   False  \n",
       "5            0               0.15   False  \n",
       "...        ...                ...     ...  \n",
       "106462       0               0.00   False  \n",
       "106463       0               0.19    True  \n",
       "106464       0               0.06   False  \n",
       "106465       0              -0.11   False  \n",
       "106466       0              -0.09   False  \n",
       "\n",
       "[95524 rows x 19 columns]"
      ]
     },
     "execution_count": 13,
     "metadata": {},
     "output_type": "execute_result"
    }
   ],
   "source": [
    "data"
   ]
  },
  {
   "cell_type": "code",
   "execution_count": 14,
   "metadata": {},
   "outputs": [],
   "source": [
    "#Change the True_False values of the is_hgf column to 1 and 0\n",
    "data['is_hgf'] = data['is_hgf'].astype(int)"
   ]
  },
  {
   "cell_type": "code",
   "execution_count": 15,
   "metadata": {},
   "outputs": [
    {
     "data": {
      "text/plain": [
       "is_hgf\n",
       "0    79978\n",
       "1    15546\n",
       "Name: count, dtype: int64"
      ]
     },
     "execution_count": 15,
     "metadata": {},
     "output_type": "execute_result"
    }
   ],
   "source": [
    "# checking the distribution of Target Varibale\n",
    "data['is_hgf'].value_counts()"
   ]
  },
  {
   "cell_type": "code",
   "execution_count": 16,
   "metadata": {},
   "outputs": [
    {
     "data": {
      "text/html": [
       "<div>\n",
       "<style scoped>\n",
       "    .dataframe tbody tr th:only-of-type {\n",
       "        vertical-align: middle;\n",
       "    }\n",
       "\n",
       "    .dataframe tbody tr th {\n",
       "        vertical-align: top;\n",
       "    }\n",
       "\n",
       "    .dataframe thead th {\n",
       "        text-align: right;\n",
       "    }\n",
       "</style>\n",
       "<table border=\"1\" class=\"dataframe\">\n",
       "  <thead>\n",
       "    <tr style=\"text-align: right;\">\n",
       "      <th></th>\n",
       "      <th>id</th>\n",
       "      <th>year</th>\n",
       "      <th>yearest</th>\n",
       "      <th>age</th>\n",
       "      <th>industry</th>\n",
       "      <th>pertot</th>\n",
       "      <th>enggrad</th>\n",
       "      <th>sales</th>\n",
       "      <th>va</th>\n",
       "      <th>gom</th>\n",
       "      <th>rdint</th>\n",
       "      <th>reext</th>\n",
       "      <th>ipnc</th>\n",
       "      <th>ipnf</th>\n",
       "      <th>ipnm</th>\n",
       "      <th>ipr</th>\n",
       "      <th>patent</th>\n",
       "      <th>sales_growth_rate</th>\n",
       "    </tr>\n",
       "    <tr>\n",
       "      <th>is_hgf</th>\n",
       "      <th></th>\n",
       "      <th></th>\n",
       "      <th></th>\n",
       "      <th></th>\n",
       "      <th></th>\n",
       "      <th></th>\n",
       "      <th></th>\n",
       "      <th></th>\n",
       "      <th></th>\n",
       "      <th></th>\n",
       "      <th></th>\n",
       "      <th></th>\n",
       "      <th></th>\n",
       "      <th></th>\n",
       "      <th></th>\n",
       "      <th></th>\n",
       "      <th></th>\n",
       "      <th></th>\n",
       "    </tr>\n",
       "  </thead>\n",
       "  <tbody>\n",
       "    <tr>\n",
       "      <th>0</th>\n",
       "      <td>2,441.60</td>\n",
       "      <td>2,000.88</td>\n",
       "      <td>1,977.91</td>\n",
       "      <td>22.97</td>\n",
       "      <td>10.00</td>\n",
       "      <td>195.12</td>\n",
       "      <td>4.73</td>\n",
       "      <td>42,083,023.36</td>\n",
       "      <td>14,696,331.93</td>\n",
       "      <td>5.67</td>\n",
       "      <td>301,167.99</td>\n",
       "      <td>154,287.48</td>\n",
       "      <td>0.12</td>\n",
       "      <td>0.11</td>\n",
       "      <td>0.12</td>\n",
       "      <td>0.32</td>\n",
       "      <td>0.18</td>\n",
       "      <td>-0.02</td>\n",
       "    </tr>\n",
       "    <tr>\n",
       "      <th>1</th>\n",
       "      <td>2,057.56</td>\n",
       "      <td>2,004.71</td>\n",
       "      <td>1,977.30</td>\n",
       "      <td>27.41</td>\n",
       "      <td>10.27</td>\n",
       "      <td>230.64</td>\n",
       "      <td>5.15</td>\n",
       "      <td>58,650,710.18</td>\n",
       "      <td>30,219,832.17</td>\n",
       "      <td>7.25</td>\n",
       "      <td>471,622.60</td>\n",
       "      <td>294,788.95</td>\n",
       "      <td>0.12</td>\n",
       "      <td>0.11</td>\n",
       "      <td>0.12</td>\n",
       "      <td>0.32</td>\n",
       "      <td>0.24</td>\n",
       "      <td>0.50</td>\n",
       "    </tr>\n",
       "  </tbody>\n",
       "</table>\n",
       "</div>"
      ],
      "text/plain": [
       "             id     year  yearest   age  industry  pertot  enggrad  \\\n",
       "is_hgf                                                               \n",
       "0      2,441.60 2,000.88 1,977.91 22.97     10.00  195.12     4.73   \n",
       "1      2,057.56 2,004.71 1,977.30 27.41     10.27  230.64     5.15   \n",
       "\n",
       "               sales            va  gom      rdint      reext  ipnc  ipnf  \\\n",
       "is_hgf                                                                      \n",
       "0      42,083,023.36 14,696,331.93 5.67 301,167.99 154,287.48  0.12  0.11   \n",
       "1      58,650,710.18 30,219,832.17 7.25 471,622.60 294,788.95  0.12  0.11   \n",
       "\n",
       "        ipnm  ipr  patent  sales_growth_rate  \n",
       "is_hgf                                        \n",
       "0       0.12 0.32    0.18              -0.02  \n",
       "1       0.12 0.32    0.24               0.50  "
      ]
     },
     "execution_count": 16,
     "metadata": {},
     "output_type": "execute_result"
    }
   ],
   "source": [
    "data.groupby('is_hgf').mean()"
   ]
  },
  {
   "cell_type": "code",
   "execution_count": 29,
   "metadata": {},
   "outputs": [],
   "source": [
    "import numpy as np\n",
    "import pandas as pd\n",
    "import sklearn.datasets\n",
    "from sklearn.model_selection import train_test_split\n",
    "from sklearn.linear_model import LogisticRegression\n",
    "from sklearn.metrics import accuracy_score"
   ]
  },
  {
   "cell_type": "code",
   "execution_count": 30,
   "metadata": {},
   "outputs": [],
   "source": [
    "X = data.drop(columns='is_hgf', axis=1)\n",
    "Y = data['is_hgf']"
   ]
  },
  {
   "cell_type": "code",
   "execution_count": 31,
   "metadata": {},
   "outputs": [],
   "source": [
    "X_train, X_test, Y_train, Y_test = train_test_split(X, Y, random_state=0)\n"
   ]
  },
  {
   "cell_type": "code",
   "execution_count": 32,
   "metadata": {},
   "outputs": [
    {
     "name": "stdout",
     "output_type": "stream",
     "text": [
      "(95524, 18) (71643, 18) (23881, 18)\n"
     ]
    }
   ],
   "source": [
    "print(X.shape, X_train.shape, X_test.shape)"
   ]
  },
  {
   "cell_type": "code",
   "execution_count": 58,
   "metadata": {},
   "outputs": [
    {
     "data": {
      "text/html": [
       "<style>#sk-container-id-2 {color: black;}#sk-container-id-2 pre{padding: 0;}#sk-container-id-2 div.sk-toggleable {background-color: white;}#sk-container-id-2 label.sk-toggleable__label {cursor: pointer;display: block;width: 100%;margin-bottom: 0;padding: 0.3em;box-sizing: border-box;text-align: center;}#sk-container-id-2 label.sk-toggleable__label-arrow:before {content: \"▸\";float: left;margin-right: 0.25em;color: #696969;}#sk-container-id-2 label.sk-toggleable__label-arrow:hover:before {color: black;}#sk-container-id-2 div.sk-estimator:hover label.sk-toggleable__label-arrow:before {color: black;}#sk-container-id-2 div.sk-toggleable__content {max-height: 0;max-width: 0;overflow: hidden;text-align: left;background-color: #f0f8ff;}#sk-container-id-2 div.sk-toggleable__content pre {margin: 0.2em;color: black;border-radius: 0.25em;background-color: #f0f8ff;}#sk-container-id-2 input.sk-toggleable__control:checked~div.sk-toggleable__content {max-height: 200px;max-width: 100%;overflow: auto;}#sk-container-id-2 input.sk-toggleable__control:checked~label.sk-toggleable__label-arrow:before {content: \"▾\";}#sk-container-id-2 div.sk-estimator input.sk-toggleable__control:checked~label.sk-toggleable__label {background-color: #d4ebff;}#sk-container-id-2 div.sk-label input.sk-toggleable__control:checked~label.sk-toggleable__label {background-color: #d4ebff;}#sk-container-id-2 input.sk-hidden--visually {border: 0;clip: rect(1px 1px 1px 1px);clip: rect(1px, 1px, 1px, 1px);height: 1px;margin: -1px;overflow: hidden;padding: 0;position: absolute;width: 1px;}#sk-container-id-2 div.sk-estimator {font-family: monospace;background-color: #f0f8ff;border: 1px dotted black;border-radius: 0.25em;box-sizing: border-box;margin-bottom: 0.5em;}#sk-container-id-2 div.sk-estimator:hover {background-color: #d4ebff;}#sk-container-id-2 div.sk-parallel-item::after {content: \"\";width: 100%;border-bottom: 1px solid gray;flex-grow: 1;}#sk-container-id-2 div.sk-label:hover label.sk-toggleable__label {background-color: #d4ebff;}#sk-container-id-2 div.sk-serial::before {content: \"\";position: absolute;border-left: 1px solid gray;box-sizing: border-box;top: 0;bottom: 0;left: 50%;z-index: 0;}#sk-container-id-2 div.sk-serial {display: flex;flex-direction: column;align-items: center;background-color: white;padding-right: 0.2em;padding-left: 0.2em;position: relative;}#sk-container-id-2 div.sk-item {position: relative;z-index: 1;}#sk-container-id-2 div.sk-parallel {display: flex;align-items: stretch;justify-content: center;background-color: white;position: relative;}#sk-container-id-2 div.sk-item::before, #sk-container-id-2 div.sk-parallel-item::before {content: \"\";position: absolute;border-left: 1px solid gray;box-sizing: border-box;top: 0;bottom: 0;left: 50%;z-index: -1;}#sk-container-id-2 div.sk-parallel-item {display: flex;flex-direction: column;z-index: 1;position: relative;background-color: white;}#sk-container-id-2 div.sk-parallel-item:first-child::after {align-self: flex-end;width: 50%;}#sk-container-id-2 div.sk-parallel-item:last-child::after {align-self: flex-start;width: 50%;}#sk-container-id-2 div.sk-parallel-item:only-child::after {width: 0;}#sk-container-id-2 div.sk-dashed-wrapped {border: 1px dashed gray;margin: 0 0.4em 0.5em 0.4em;box-sizing: border-box;padding-bottom: 0.4em;background-color: white;}#sk-container-id-2 div.sk-label label {font-family: monospace;font-weight: bold;display: inline-block;line-height: 1.2em;}#sk-container-id-2 div.sk-label-container {text-align: center;}#sk-container-id-2 div.sk-container {/* jupyter's `normalize.less` sets `[hidden] { display: none; }` but bootstrap.min.css set `[hidden] { display: none !important; }` so we also need the `!important` here to be able to override the default hidden behavior on the sphinx rendered scikit-learn.org. See: https://github.com/scikit-learn/scikit-learn/issues/21755 */display: inline-block !important;position: relative;}#sk-container-id-2 div.sk-text-repr-fallback {display: none;}</style><div id=\"sk-container-id-2\" class=\"sk-top-container\"><div class=\"sk-text-repr-fallback\"><pre>LogisticRegression()</pre><b>In a Jupyter environment, please rerun this cell to show the HTML representation or trust the notebook. <br />On GitHub, the HTML representation is unable to render, please try loading this page with nbviewer.org.</b></div><div class=\"sk-container\" hidden><div class=\"sk-item\"><div class=\"sk-estimator sk-toggleable\"><input class=\"sk-toggleable__control sk-hidden--visually\" id=\"sk-estimator-id-2\" type=\"checkbox\" checked><label for=\"sk-estimator-id-2\" class=\"sk-toggleable__label sk-toggleable__label-arrow\">LogisticRegression</label><div class=\"sk-toggleable__content\"><pre>LogisticRegression()</pre></div></div></div></div></div>"
      ],
      "text/plain": [
       "LogisticRegression()"
      ]
     },
     "execution_count": 58,
     "metadata": {},
     "output_type": "execute_result"
    }
   ],
   "source": [
    "# Model training \n",
    "#Logistic Regression \n",
    "model = LogisticRegression()\n",
    "# training the Logistic Regression model using Training data\n",
    "\n",
    "model.fit(X_train, Y_train)\n"
   ]
  },
  {
   "cell_type": "code",
   "execution_count": 59,
   "metadata": {},
   "outputs": [],
   "source": [
    "#Model Evaluation :\n",
    "# accuracy on training data\n",
    "X_train_prediction = model.predict(X_train)\n",
    "training_data_accuracy = accuracy_score(Y_train, X_train_prediction)  "
   ]
  },
  {
   "cell_type": "code",
   "execution_count": 60,
   "metadata": {},
   "outputs": [
    {
     "name": "stdout",
     "output_type": "stream",
     "text": [
      "Accuracy on training data =  0.8370531663944838\n"
     ]
    }
   ],
   "source": [
    "print('Accuracy on training data = ', training_data_accuracy)"
   ]
  },
  {
   "cell_type": "code",
   "execution_count": 55,
   "metadata": {},
   "outputs": [],
   "source": [
    "# accuracy on test data\n",
    "X_test_prediction = model.predict(X_test)\n",
    "test_data_accuracy = accuracy_score(Y_test, X_test_prediction)"
   ]
  },
  {
   "cell_type": "code",
   "execution_count": 61,
   "metadata": {},
   "outputs": [
    {
     "name": "stdout",
     "output_type": "stream",
     "text": [
      "Accuracy on test data =  0.8376533645994724\n"
     ]
    }
   ],
   "source": [
    "print('Accuracy on test data = ', test_data_accuracy)"
   ]
  },
  {
   "cell_type": "code",
   "execution_count": 62,
   "metadata": {},
   "outputs": [
    {
     "name": "stdout",
     "output_type": "stream",
     "text": [
      "Accuracy C=0.001 (test): 0.838\n",
      "Accuracy C=50 (test): 0.838\n"
     ]
    }
   ],
   "source": [
    "# We can change the value of C and play with the flexibility of the model\n",
    "logreg001 = LogisticRegression(max_iter=5000, C=0.001).fit(X_train, Y_train)\n",
    "logreg50 = LogisticRegression(max_iter=5000, C=50).fit(X_train, Y_train)\n",
    "\n",
    "print(\"Accuracy C=0.001 (test): {:.3f}\".format(logreg001.score(X_test, Y_test)))\n",
    "print(\"Accuracy C=50 (test): {:.3f}\".format(logreg50.score(X_test, Y_test)))"
   ]
  },
  {
   "cell_type": "code",
   "execution_count": null,
   "metadata": {},
   "outputs": [],
   "source": [
    "import numpy as np\n",
    "import matplotlib.pyplot as plt\n",
    "\n",
    "from sklearn.model_selection import train_test_split\n",
    "from sklearn.linear_model import Ridge, RidgeCV, Lasso, LassoCV\n",
    "from sklearn.metrics import mean_squared_error"
   ]
  },
  {
   "cell_type": "code",
   "execution_count": null,
   "metadata": {},
   "outputs": [],
   "source": [
    "X = data.drop(['sales_growth_rate'], axis = 1)\n",
    "y = data['sales_growth_rate']\n",
    "\n",
    "X_train, X_test, y_train, y_test = train_test_split(X, y, random_state=0)\n"
   ]
  },
  {
   "cell_type": "code",
   "execution_count": null,
   "metadata": {},
   "outputs": [],
   "source": [
    "# Instantiate the model\n",
    "ridge = Ridge(normalize = True)\n",
    "\n",
    "# Fit the model on the training data\n",
    "ridge = ridge.fit(X_train, y_train)\n",
    "\n",
    "# Visualize coefficients\n",
    "print(pd.Series(ridge.coef_, index = X.columns))\n",
    "\n",
    "# Check the performance of the model\n",
    "print('MSE (training): %.2f' % mean_squared_error(y_train, ridge.predict(X_train)),\n",
    "      'MSE (test): %.2f' % mean_squared_error(y_test, ridge.predict(X_test)), sep='\\n')\n",
    "\n",
    "\n",
    "\n"
   ]
  },
  {
   "cell_type": "code",
   "execution_count": null,
   "metadata": {},
   "outputs": [],
   "source": [
    "# Set manually some values for alpha\n",
    "alphas = 10**np.linspace(5,-2,100)*0.5\n",
    "alphas\n",
    "\n",
    "coefs = []\n",
    "for a in alphas:\n",
    "    ridge = Ridge(alpha=a, fit_intercept=False)\n",
    "    ridge.fit(X_train, y_train)\n",
    "    coefs.append(ridge.coef_)\n",
    "\n",
    "#Plot ridge coefficients as a function of the regularization\n",
    "ax = plt.gca()\n",
    "ax.plot(alphas, coefs)\n",
    "ax.set_xscale('log')\n",
    "plt.xlabel('alpha')\n",
    "plt.ylabel('coefficient')\n",
    "plt.title('Ridge coefficients profile')\n",
    "plt.axis('tight')\n",
    "plt.show()\n",
    "\n",
    "# We use cross-validation to choose the tuning parameter\n",
    "ridgecv = RidgeCV(alphas = alphas, cv = 10, scoring = 'neg_mean_squared_error', normalize = True)\n",
    "ridgecv.fit(X_train, y_train)\n",
    "ridgecv.alpha_\n",
    "\n",
    "\n",
    "print('MSE (training): %.2f' % mean_squared_error(y_train, ridgecv.predict(X_train)),\n",
    "      'MSE (test): %.2f' % mean_squared_error(y_test, ridgecv.predict(X_test)), sep='\\n')\n"
   ]
  },
  {
   "cell_type": "code",
   "execution_count": null,
   "metadata": {},
   "outputs": [],
   "source": [
    "lassocv = LassoCV(alphas = None, cv = 10, max_iter = 100000, normalize = True)\n",
    "lassocv.fit(X_train, y_train)\n",
    "lassocv.alpha_\n",
    "\n",
    "# How many coeffiecient are set to zero?\n",
    "print('Number of features used:', np.sum(lassocv.coef_ != 0))\n",
    "\n",
    "print('MSE (training): %.2f' % mean_squared_error(y_train, lassocv.predict(X_train)),\n",
    "      'MSE (test): %.2f' % mean_squared_error(y_test, lassocv.predict(X_test)), sep='\\n')\n",
    "\n"
   ]
  }
 ],
 "metadata": {
  "kernelspec": {
   "display_name": "base",
   "language": "python",
   "name": "python3"
  },
  "language_info": {
   "codemirror_mode": {
    "name": "ipython",
    "version": 3
   },
   "file_extension": ".py",
   "mimetype": "text/x-python",
   "name": "python",
   "nbconvert_exporter": "python",
   "pygments_lexer": "ipython3",
   "version": "3.11.5"
  },
  "orig_nbformat": 4
 },
 "nbformat": 4,
 "nbformat_minor": 2
}
